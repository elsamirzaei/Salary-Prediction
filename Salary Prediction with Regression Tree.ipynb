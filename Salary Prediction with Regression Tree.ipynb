{
 "cells": [
  {
   "cell_type": "code",
   "execution_count": 1,
   "id": "780f76b7",
   "metadata": {},
   "outputs": [],
   "source": [
    "#Import Libraries\n",
    "import pandas as pd\n",
    "import matplotlib.pyplot as plt\n",
    "import numpy as np\n",
    "from scipy import stats"
   ]
  },
  {
   "cell_type": "code",
   "execution_count": 2,
   "id": "f15861a2",
   "metadata": {},
   "outputs": [],
   "source": [
    "#Import dataset\n",
    "dataset_v1 = pd.read_csv('Glassdoor Gender Pay Gap.csv')\n",
    "\n",
    "#Locating indexes\n",
    "X = dataset_v1.iloc[:, :-2].values\n",
    "\n",
    "#The depend variable is salary\n",
    "y = dataset_v1.iloc[:, -2].values\n"
   ]
  },
  {
   "cell_type": "code",
   "execution_count": 3,
   "id": "a7e992e2",
   "metadata": {},
   "outputs": [
    {
     "data": {
      "text/plain": [
       "JobTitle      10\n",
       "Gender         2\n",
       "Age           48\n",
       "PerfEval       5\n",
       "Education      4\n",
       "Dept           5\n",
       "Seniority      5\n",
       "BasePay      992\n",
       "Bonus        941\n",
       "dtype: int64"
      ]
     },
     "execution_count": 3,
     "metadata": {},
     "output_type": "execute_result"
    }
   ],
   "source": [
    "#Count unique values prior to encoding\n",
    "#Categorical independent variables will need to be encoded: JobTitle, Gender, Education, Dept\n",
    "dataset_v1.nunique()"
   ]
  },
  {
   "cell_type": "code",
   "execution_count": 4,
   "id": "62d62445",
   "metadata": {},
   "outputs": [
    {
     "data": {
      "text/html": [
       "<div>\n",
       "<style scoped>\n",
       "    .dataframe tbody tr th:only-of-type {\n",
       "        vertical-align: middle;\n",
       "    }\n",
       "\n",
       "    .dataframe tbody tr th {\n",
       "        vertical-align: top;\n",
       "    }\n",
       "\n",
       "    .dataframe thead th {\n",
       "        text-align: right;\n",
       "    }\n",
       "</style>\n",
       "<table border=\"1\" class=\"dataframe\">\n",
       "  <thead>\n",
       "    <tr style=\"text-align: right;\">\n",
       "      <th></th>\n",
       "      <th>JobTitle</th>\n",
       "      <th>Gender</th>\n",
       "      <th>Age</th>\n",
       "      <th>PerfEval</th>\n",
       "      <th>Education</th>\n",
       "      <th>Dept</th>\n",
       "      <th>Seniority</th>\n",
       "      <th>BasePay</th>\n",
       "      <th>Bonus</th>\n",
       "    </tr>\n",
       "  </thead>\n",
       "  <tbody>\n",
       "    <tr>\n",
       "      <th>0</th>\n",
       "      <td>Graphic Designer</td>\n",
       "      <td>Female</td>\n",
       "      <td>18</td>\n",
       "      <td>5</td>\n",
       "      <td>College</td>\n",
       "      <td>Operations</td>\n",
       "      <td>2</td>\n",
       "      <td>42363</td>\n",
       "      <td>9938</td>\n",
       "    </tr>\n",
       "    <tr>\n",
       "      <th>1</th>\n",
       "      <td>Software Engineer</td>\n",
       "      <td>Male</td>\n",
       "      <td>21</td>\n",
       "      <td>5</td>\n",
       "      <td>College</td>\n",
       "      <td>Management</td>\n",
       "      <td>5</td>\n",
       "      <td>108476</td>\n",
       "      <td>11128</td>\n",
       "    </tr>\n",
       "    <tr>\n",
       "      <th>2</th>\n",
       "      <td>Warehouse Associate</td>\n",
       "      <td>Female</td>\n",
       "      <td>19</td>\n",
       "      <td>4</td>\n",
       "      <td>PhD</td>\n",
       "      <td>Administration</td>\n",
       "      <td>5</td>\n",
       "      <td>90208</td>\n",
       "      <td>9268</td>\n",
       "    </tr>\n",
       "    <tr>\n",
       "      <th>3</th>\n",
       "      <td>Software Engineer</td>\n",
       "      <td>Male</td>\n",
       "      <td>20</td>\n",
       "      <td>5</td>\n",
       "      <td>Masters</td>\n",
       "      <td>Sales</td>\n",
       "      <td>4</td>\n",
       "      <td>108080</td>\n",
       "      <td>10154</td>\n",
       "    </tr>\n",
       "    <tr>\n",
       "      <th>4</th>\n",
       "      <td>Graphic Designer</td>\n",
       "      <td>Male</td>\n",
       "      <td>26</td>\n",
       "      <td>5</td>\n",
       "      <td>Masters</td>\n",
       "      <td>Engineering</td>\n",
       "      <td>5</td>\n",
       "      <td>99464</td>\n",
       "      <td>9319</td>\n",
       "    </tr>\n",
       "  </tbody>\n",
       "</table>\n",
       "</div>"
      ],
      "text/plain": [
       "              JobTitle  Gender  Age  PerfEval Education            Dept  \\\n",
       "0     Graphic Designer  Female   18         5   College      Operations   \n",
       "1    Software Engineer    Male   21         5   College      Management   \n",
       "2  Warehouse Associate  Female   19         4       PhD  Administration   \n",
       "3    Software Engineer    Male   20         5   Masters           Sales   \n",
       "4     Graphic Designer    Male   26         5   Masters     Engineering   \n",
       "\n",
       "   Seniority  BasePay  Bonus  \n",
       "0          2    42363   9938  \n",
       "1          5   108476  11128  \n",
       "2          5    90208   9268  \n",
       "3          4   108080  10154  \n",
       "4          5    99464   9319  "
      ]
     },
     "execution_count": 4,
     "metadata": {},
     "output_type": "execute_result"
    }
   ],
   "source": [
    "dataset_v1.head()"
   ]
  },
  {
   "cell_type": "code",
   "execution_count": 5,
   "id": "4f78ac4c",
   "metadata": {},
   "outputs": [],
   "source": [
    "#Encoding the categorical variables - JobTitle - 1st Column\n",
    "from sklearn.compose import ColumnTransformer\n",
    "from sklearn.preprocessing import OneHotEncoder\n",
    "ct = ColumnTransformer(transformers=[('encoder', OneHotEncoder(),[0])], remainder='passthrough')\n",
    "X = ct.fit_transform(X)\n"
   ]
  },
  {
   "cell_type": "code",
   "execution_count": 6,
   "id": "df38aae0",
   "metadata": {},
   "outputs": [
    {
     "name": "stdout",
     "output_type": "stream",
     "text": [
      "[0.0 0.0 0.0 1.0 0.0 0.0 0.0 0.0 0.0 0.0 'Female' 18 5 'College'\n",
      " 'Operations' 2]\n"
     ]
    }
   ],
   "source": [
    "#Checking encoding: JobTitle\n",
    "print(X[:] [0])"
   ]
  },
  {
   "cell_type": "code",
   "execution_count": 7,
   "id": "0c958435",
   "metadata": {},
   "outputs": [],
   "source": [
    "#Encoding the categorical variables - Gender - 11th column\n",
    "from sklearn.compose import ColumnTransformer\n",
    "from sklearn.preprocessing import OneHotEncoder\n",
    "#Gender is performed on the wrong column here - we have to check how many job titles there are....\n",
    "ct = ColumnTransformer(transformers=[('encoder', OneHotEncoder(),[10])], remainder='passthrough')\n",
    "X = ct.fit_transform(X)"
   ]
  },
  {
   "cell_type": "code",
   "execution_count": 8,
   "id": "ebce9994",
   "metadata": {},
   "outputs": [
    {
     "name": "stdout",
     "output_type": "stream",
     "text": [
      "[1.0 0.0 0.0 0.0 0.0 1.0 0.0 0.0 0.0 0.0 0.0 0.0 18 5 'College'\n",
      " 'Operations' 2]\n"
     ]
    }
   ],
   "source": [
    "#Checking\n",
    "print(X[:] [0])\n"
   ]
  },
  {
   "cell_type": "code",
   "execution_count": 9,
   "id": "7d3377a3",
   "metadata": {},
   "outputs": [],
   "source": [
    "#Encoding the categorical variables - Education - 15th Column\n",
    "from sklearn.compose import ColumnTransformer\n",
    "from sklearn.preprocessing import OneHotEncoder\n",
    "#Gender is performed on the wrong column here - we have to check how many job titles there are....\n",
    "ct = ColumnTransformer(transformers=[('encoder', OneHotEncoder(),[14])], remainder='passthrough')\n",
    "X = ct.fit_transform(X)"
   ]
  },
  {
   "cell_type": "code",
   "execution_count": 10,
   "id": "5c2d103f",
   "metadata": {},
   "outputs": [
    {
     "name": "stdout",
     "output_type": "stream",
     "text": [
      "[1.0 0.0 0.0 0.0 1.0 0.0 0.0 0.0 0.0 1.0 0.0 0.0 0.0 0.0 0.0 0.0 18 5\n",
      " 'Operations' 2]\n"
     ]
    }
   ],
   "source": [
    "#Checking\n",
    "print(X[:] [0])"
   ]
  },
  {
   "cell_type": "code",
   "execution_count": 11,
   "id": "872abbcc",
   "metadata": {},
   "outputs": [],
   "source": [
    "#Encoding the categorical variables - Department - 19th Column\n",
    "from sklearn.compose import ColumnTransformer\n",
    "from sklearn.preprocessing import OneHotEncoder\n",
    "#Gender is performed on the wrong column here - we have to check how many job titles there are....\n",
    "ct = ColumnTransformer(transformers=[('encoder', OneHotEncoder(),[18])], remainder='passthrough')\n",
    "X = ct.fit_transform(X)"
   ]
  },
  {
   "cell_type": "code",
   "execution_count": 12,
   "id": "bb5f8305",
   "metadata": {},
   "outputs": [
    {
     "name": "stdout",
     "output_type": "stream",
     "text": [
      "[0.0 0.0 0.0 1.0 0.0 1.0 0.0 0.0 0.0 1.0 0.0 0.0 0.0 0.0 1.0 0.0 0.0 0.0\n",
      " 0.0 0.0 0.0 18 5 2]\n"
     ]
    }
   ],
   "source": [
    "#Checking\n",
    "#Column Labels:\n",
    "#Department: 1:5\n",
    "#Education: 6:9\n",
    "#Gender: 10:11\n",
    "#JobTitle: 12:21\n",
    "#Age: 22\n",
    "#PerfEval: 23\n",
    "#Seniority: 24\n",
    "\n",
    "print(X[:] [0])"
   ]
  },
  {
   "cell_type": "code",
   "execution_count": 13,
   "id": "5906c388",
   "metadata": {},
   "outputs": [],
   "source": [
    "#Splitting data into training set and test set\n",
    "from sklearn.model_selection import train_test_split\n",
    "X_train, X_test, y_train, y_test = train_test_split(X, y, test_size = 0.2, random_state=0)"
   ]
  },
  {
   "cell_type": "code",
   "execution_count": 19,
   "id": "4d8882ba",
   "metadata": {},
   "outputs": [
    {
     "data": {
      "text/plain": [
       "DecisionTreeRegressor(random_state=0)"
      ]
     },
     "execution_count": 19,
     "metadata": {},
     "output_type": "execute_result"
    }
   ],
   "source": [
    "#Training the model\n",
    "from sklearn.tree import DecisionTreeRegressor\n",
    "regressor = DecisionTreeRegressor(random_state = 0)\n",
    "regressor.fit(X_train, y_train)"
   ]
  },
  {
   "cell_type": "code",
   "execution_count": 20,
   "id": "e7846bc5",
   "metadata": {},
   "outputs": [
    {
     "name": "stdout",
     "output_type": "stream",
     "text": [
      "[[ 85253.   80789. ]\n",
      " [ 80494.   57500. ]\n",
      " [116751.  130251. ]\n",
      " [135781.  126269. ]\n",
      " [ 63695.   57672. ]\n",
      " [128737.5 106045. ]\n",
      " [ 74938.   88566. ]\n",
      " [ 84725.   61164. ]\n",
      " [ 75397.   84930. ]\n",
      " [111041.  102745. ]\n",
      " [ 82790.   78132. ]\n",
      " [111896.  127013. ]\n",
      " [ 34208.   38613. ]\n",
      " [112392.  109345. ]\n",
      " [148178.  121506. ]\n",
      " [ 78623.   71105. ]\n",
      " [ 62600.   69928. ]\n",
      " [103133.  110049. ]\n",
      " [114479.   95584. ]\n",
      " [ 96061.  103384. ]\n",
      " [100183.  103007. ]\n",
      " [ 62753.   91566. ]\n",
      " [100433.   78750. ]\n",
      " [101173.   93306. ]\n",
      " [101249.  109645. ]\n",
      " [103156.  114621. ]\n",
      " [ 83031.   81503. ]\n",
      " [ 92067.  109369. ]\n",
      " [141005.  124847. ]\n",
      " [ 76654.  108476. ]\n",
      " [121589.   83308. ]\n",
      " [ 91049.   96584. ]\n",
      " [109623.   89225. ]\n",
      " [114693.  104290. ]\n",
      " [ 69734.   62377. ]\n",
      " [121151.  100819. ]\n",
      " [ 85948.   87314. ]\n",
      " [133910.  150467. ]\n",
      " [ 93855.   86375. ]\n",
      " [ 51906.   56318. ]\n",
      " [ 79208.   65711. ]\n",
      " [ 95798.  108977. ]\n",
      " [108778.  129620. ]\n",
      " [ 66611.  119522. ]\n",
      " [ 64468.   67749. ]\n",
      " [105601.   99134. ]\n",
      " [ 55885.   39741. ]\n",
      " [ 79707.   91713. ]\n",
      " [ 69855.   71824. ]\n",
      " [130417.  123242. ]\n",
      " [135781.  120154. ]\n",
      " [135781.  133927. ]\n",
      " [109346.  123422. ]\n",
      " [ 53855.   66407. ]\n",
      " [135013.  124166. ]\n",
      " [132323.  114029. ]\n",
      " [ 70088.   88213. ]\n",
      " [101249.  108820. ]\n",
      " [ 93018.   98796. ]\n",
      " [111770.   91568. ]\n",
      " [ 94492.   90426. ]\n",
      " [ 84844.   93067. ]\n",
      " [ 91711.   88994. ]\n",
      " [ 48570.   77309. ]\n",
      " [129226.  122037. ]\n",
      " [ 90612.  100091. ]\n",
      " [ 98499.  102910. ]\n",
      " [101249.  100769. ]\n",
      " [ 98100.   97000. ]\n",
      " [ 71371.   95754. ]\n",
      " [ 62600.   79237. ]\n",
      " [110643.  106560. ]\n",
      " [114906.  108475. ]\n",
      " [ 76286.   69254. ]\n",
      " [112169.  114141. ]\n",
      " [ 86036.   82755. ]\n",
      " [ 92154.  112134. ]\n",
      " [ 92154.   79177. ]\n",
      " [ 93742.  111120. ]\n",
      " [107025.   78910. ]\n",
      " [ 58130.   62260. ]\n",
      " [103133.  123172. ]\n",
      " [130082.  118629. ]\n",
      " [128737.5 119069. ]\n",
      " [ 95505.   68643. ]\n",
      " [ 67089.   80635. ]\n",
      " [ 87682.   80937. ]\n",
      " [ 74938.   75518. ]\n",
      " [145095.  135073. ]\n",
      " [165229.  135512. ]\n",
      " [ 85306.   85398. ]\n",
      " [ 94492.   89170. ]\n",
      " [133910.  135638. ]\n",
      " [ 83333.  102108. ]\n",
      " [117554.   81866. ]\n",
      " [ 72038.   65750. ]\n",
      " [100463.   91504. ]\n",
      " [ 62097.   76517. ]\n",
      " [ 78472.   57070. ]\n",
      " [ 69734.   72422. ]\n",
      " [ 38451.   62866. ]\n",
      " [ 87409.   91129. ]\n",
      " [ 74523.   83034. ]\n",
      " [134109.  115981. ]\n",
      " [118231.  111903. ]\n",
      " [106896.   87848. ]\n",
      " [126828.  101133. ]\n",
      " [ 55885.   47739. ]\n",
      " [ 98575.  124530. ]\n",
      " [ 87682.   98010. ]\n",
      " [ 62753.   96045. ]\n",
      " [ 61081.   67323. ]\n",
      " [101262.  121821. ]\n",
      " [ 83095.   98535. ]\n",
      " [ 56172.   40341. ]\n",
      " [ 68384.   64624. ]\n",
      " [ 71371.   76522. ]\n",
      " [120579.   96777. ]\n",
      " [101154.  114733. ]\n",
      " [ 91160.   94590. ]\n",
      " [ 71858.   82343. ]\n",
      " [107064.  112719. ]\n",
      " [111726.  110731. ]\n",
      " [ 90474.   89272. ]\n",
      " [105601.   97328. ]\n",
      " [100505.  117215. ]\n",
      " [100516.  118653. ]\n",
      " [ 66125.   37780. ]\n",
      " [120159.   92257. ]\n",
      " [ 81515.  103978. ]\n",
      " [ 90542.   85986. ]\n",
      " [101140.   84803. ]\n",
      " [119794.  124891. ]\n",
      " [106896.  109136. ]\n",
      " [ 85948.  104468. ]\n",
      " [121210.  106315. ]\n",
      " [ 64844.   60892. ]\n",
      " [ 92067.  112976. ]\n",
      " [121151.  113009. ]\n",
      " [120579.  124151. ]\n",
      " [104657.  111342. ]\n",
      " [106158.  101716. ]\n",
      " [121376.  128669. ]\n",
      " [102261.   92687. ]\n",
      " [ 87575.   94973. ]\n",
      " [100160.   76700. ]\n",
      " [ 71182.   61527. ]\n",
      " [124470.  113544. ]\n",
      " [ 78113.   88037. ]\n",
      " [129226.  113252. ]\n",
      " [ 84592.  100014. ]\n",
      " [ 50401.   66359. ]\n",
      " [ 49622.   40056. ]\n",
      " [ 79462.   66887. ]\n",
      " [ 82164.   88195. ]\n",
      " [ 97240.   91030. ]\n",
      " [ 98366.   67040. ]\n",
      " [ 97414.   77751. ]\n",
      " [134450.  115604. ]\n",
      " [112188.  118888. ]\n",
      " [ 79674.   86241. ]\n",
      " [114171.   97311. ]\n",
      " [ 64807.   93696. ]\n",
      " [127085.  125828. ]\n",
      " [152625.  179726. ]\n",
      " [116642.   85161. ]\n",
      " [139068.  155834. ]\n",
      " [ 53839.   76726. ]\n",
      " [108719.  113730. ]\n",
      " [138163.  118088. ]\n",
      " [131980.  136836. ]\n",
      " [ 47036.   64920. ]\n",
      " [ 64852.   68639. ]\n",
      " [ 74829.   49553. ]\n",
      " [ 97240.  105632. ]\n",
      " [111502.  103416. ]\n",
      " [ 79208.   66084. ]\n",
      " [130417.  109931. ]\n",
      " [121210.  122352. ]\n",
      " [127062.  113180. ]\n",
      " [ 68403.   84683. ]\n",
      " [106158.  123108. ]\n",
      " [128680.  113122. ]\n",
      " [ 70311.   59458. ]\n",
      " [106945.   96665. ]\n",
      " [ 86795.   99472. ]\n",
      " [ 85253.   77584. ]\n",
      " [ 87585.   77655. ]\n",
      " [157169.  155826. ]\n",
      " [ 42722.   88482. ]\n",
      " [ 95995.   81661. ]\n",
      " [ 84132.   84764. ]\n",
      " [ 97240.  105800. ]\n",
      " [ 59212.   70890. ]\n",
      " [ 96232.   86538. ]\n",
      " [ 93805.  110636. ]\n",
      " [ 79462.   55560. ]\n",
      " [ 77881.   91099. ]\n",
      " [ 64807.   98512. ]\n",
      " [128970.  129132. ]]\n"
     ]
    }
   ],
   "source": [
    "y_pred = regressor.predict(X_test)\n",
    "np.set_printoptions(precision=2)\n",
    "print(np.concatenate((y_pred.reshape(len(y_pred),1), y_test.reshape(len(y_test),1)),1))"
   ]
  },
  {
   "cell_type": "code",
   "execution_count": 21,
   "id": "55f2ac5d",
   "metadata": {},
   "outputs": [
    {
     "data": {
      "text/plain": [
       "0.5587732044168616"
      ]
     },
     "execution_count": 21,
     "metadata": {},
     "output_type": "execute_result"
    }
   ],
   "source": [
    "#Evaluating Model Performance\n",
    "from sklearn.metrics import r2_score\n",
    "r2_score(y_test, y_pred)\n",
    "#Based on this result, we see that regression tree is not a reliable model for salary prediction"
   ]
  },
  {
   "cell_type": "code",
   "execution_count": 22,
   "id": "84d41973",
   "metadata": {},
   "outputs": [
    {
     "name": "stdout",
     "output_type": "stream",
     "text": [
      "[106279.]\n"
     ]
    }
   ],
   "source": [
    "#Make a prediction for Software Engineer, Female, 50, 5, Masters, Operations, 3\n",
    "print(regressor.predict([[1, 0, 0, 0, 0, 0, 0, 1, 0, 1, 0, 0, 1, 0, 0, 0, 0, 0, 0, 0, 0, 50, 5, 3]]))"
   ]
  }
 ],
 "metadata": {
  "kernelspec": {
   "display_name": "Python 3 (ipykernel)",
   "language": "python",
   "name": "python3"
  },
  "language_info": {
   "codemirror_mode": {
    "name": "ipython",
    "version": 3
   },
   "file_extension": ".py",
   "mimetype": "text/x-python",
   "name": "python",
   "nbconvert_exporter": "python",
   "pygments_lexer": "ipython3",
   "version": "3.9.12"
  }
 },
 "nbformat": 4,
 "nbformat_minor": 5
}
