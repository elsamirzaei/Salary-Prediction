{
 "cells": [
  {
   "cell_type": "code",
   "execution_count": 1,
   "id": "780f76b7",
   "metadata": {},
   "outputs": [],
   "source": [
    "#Import Libraries\n",
    "import pandas as pd\n",
    "import matplotlib.pyplot as plt\n",
    "import numpy as np\n",
    "from scipy import stats"
   ]
  },
  {
   "cell_type": "code",
   "execution_count": 2,
   "id": "f15861a2",
   "metadata": {},
   "outputs": [],
   "source": [
    "#Import dataset\n",
    "dataset_v1 = pd.read_csv('Glassdoor Gender Pay Gap.csv')\n",
    "\n",
    "#Locating indexes\n",
    "X = dataset_v1.iloc[:, :-2].values\n",
    "\n",
    "#The depend variable is salary\n",
    "y = dataset_v1.iloc[:, -2].values\n"
   ]
  },
  {
   "cell_type": "code",
   "execution_count": 3,
   "id": "a7e992e2",
   "metadata": {},
   "outputs": [
    {
     "data": {
      "text/plain": [
       "JobTitle      10\n",
       "Gender         2\n",
       "Age           48\n",
       "PerfEval       5\n",
       "Education      4\n",
       "Dept           5\n",
       "Seniority      5\n",
       "BasePay      992\n",
       "Bonus        941\n",
       "dtype: int64"
      ]
     },
     "execution_count": 3,
     "metadata": {},
     "output_type": "execute_result"
    }
   ],
   "source": [
    "#Count unique values prior to encoding\n",
    "#Categorical independent variables will need to be encoded: JobTitle, Gender, Education, Dept\n",
    "dataset_v1.nunique()"
   ]
  },
  {
   "cell_type": "code",
   "execution_count": 4,
   "id": "62d62445",
   "metadata": {},
   "outputs": [
    {
     "data": {
      "text/html": [
       "<div>\n",
       "<style scoped>\n",
       "    .dataframe tbody tr th:only-of-type {\n",
       "        vertical-align: middle;\n",
       "    }\n",
       "\n",
       "    .dataframe tbody tr th {\n",
       "        vertical-align: top;\n",
       "    }\n",
       "\n",
       "    .dataframe thead th {\n",
       "        text-align: right;\n",
       "    }\n",
       "</style>\n",
       "<table border=\"1\" class=\"dataframe\">\n",
       "  <thead>\n",
       "    <tr style=\"text-align: right;\">\n",
       "      <th></th>\n",
       "      <th>JobTitle</th>\n",
       "      <th>Gender</th>\n",
       "      <th>Age</th>\n",
       "      <th>PerfEval</th>\n",
       "      <th>Education</th>\n",
       "      <th>Dept</th>\n",
       "      <th>Seniority</th>\n",
       "      <th>BasePay</th>\n",
       "      <th>Bonus</th>\n",
       "    </tr>\n",
       "  </thead>\n",
       "  <tbody>\n",
       "    <tr>\n",
       "      <th>0</th>\n",
       "      <td>Graphic Designer</td>\n",
       "      <td>Female</td>\n",
       "      <td>18</td>\n",
       "      <td>5</td>\n",
       "      <td>College</td>\n",
       "      <td>Operations</td>\n",
       "      <td>2</td>\n",
       "      <td>42363</td>\n",
       "      <td>9938</td>\n",
       "    </tr>\n",
       "    <tr>\n",
       "      <th>1</th>\n",
       "      <td>Software Engineer</td>\n",
       "      <td>Male</td>\n",
       "      <td>21</td>\n",
       "      <td>5</td>\n",
       "      <td>College</td>\n",
       "      <td>Management</td>\n",
       "      <td>5</td>\n",
       "      <td>108476</td>\n",
       "      <td>11128</td>\n",
       "    </tr>\n",
       "    <tr>\n",
       "      <th>2</th>\n",
       "      <td>Warehouse Associate</td>\n",
       "      <td>Female</td>\n",
       "      <td>19</td>\n",
       "      <td>4</td>\n",
       "      <td>PhD</td>\n",
       "      <td>Administration</td>\n",
       "      <td>5</td>\n",
       "      <td>90208</td>\n",
       "      <td>9268</td>\n",
       "    </tr>\n",
       "    <tr>\n",
       "      <th>3</th>\n",
       "      <td>Software Engineer</td>\n",
       "      <td>Male</td>\n",
       "      <td>20</td>\n",
       "      <td>5</td>\n",
       "      <td>Masters</td>\n",
       "      <td>Sales</td>\n",
       "      <td>4</td>\n",
       "      <td>108080</td>\n",
       "      <td>10154</td>\n",
       "    </tr>\n",
       "    <tr>\n",
       "      <th>4</th>\n",
       "      <td>Graphic Designer</td>\n",
       "      <td>Male</td>\n",
       "      <td>26</td>\n",
       "      <td>5</td>\n",
       "      <td>Masters</td>\n",
       "      <td>Engineering</td>\n",
       "      <td>5</td>\n",
       "      <td>99464</td>\n",
       "      <td>9319</td>\n",
       "    </tr>\n",
       "  </tbody>\n",
       "</table>\n",
       "</div>"
      ],
      "text/plain": [
       "              JobTitle  Gender  Age  PerfEval Education            Dept  \\\n",
       "0     Graphic Designer  Female   18         5   College      Operations   \n",
       "1    Software Engineer    Male   21         5   College      Management   \n",
       "2  Warehouse Associate  Female   19         4       PhD  Administration   \n",
       "3    Software Engineer    Male   20         5   Masters           Sales   \n",
       "4     Graphic Designer    Male   26         5   Masters     Engineering   \n",
       "\n",
       "   Seniority  BasePay  Bonus  \n",
       "0          2    42363   9938  \n",
       "1          5   108476  11128  \n",
       "2          5    90208   9268  \n",
       "3          4   108080  10154  \n",
       "4          5    99464   9319  "
      ]
     },
     "execution_count": 4,
     "metadata": {},
     "output_type": "execute_result"
    }
   ],
   "source": [
    "dataset_v1.head()"
   ]
  },
  {
   "cell_type": "code",
   "execution_count": 5,
   "id": "4f78ac4c",
   "metadata": {},
   "outputs": [],
   "source": [
    "#Encoding the categorical variables - JobTitle - 1st Column\n",
    "from sklearn.compose import ColumnTransformer\n",
    "from sklearn.preprocessing import OneHotEncoder\n",
    "ct = ColumnTransformer(transformers=[('encoder', OneHotEncoder(),[0])], remainder='passthrough')\n",
    "X = ct.fit_transform(X)\n"
   ]
  },
  {
   "cell_type": "code",
   "execution_count": 6,
   "id": "df38aae0",
   "metadata": {},
   "outputs": [
    {
     "name": "stdout",
     "output_type": "stream",
     "text": [
      "[0.0 0.0 0.0 1.0 0.0 0.0 0.0 0.0 0.0 0.0 'Female' 18 5 'College'\n",
      " 'Operations' 2]\n"
     ]
    }
   ],
   "source": [
    "#Checking encoding: JobTitle\n",
    "print(X[:] [0])"
   ]
  },
  {
   "cell_type": "code",
   "execution_count": 7,
   "id": "0c958435",
   "metadata": {},
   "outputs": [],
   "source": [
    "#Encoding the categorical variables - Gender - 11th column\n",
    "from sklearn.compose import ColumnTransformer\n",
    "from sklearn.preprocessing import OneHotEncoder\n",
    "#Gender is performed on the wrong column here - we have to check how many job titles there are....\n",
    "ct = ColumnTransformer(transformers=[('encoder', OneHotEncoder(),[10])], remainder='passthrough')\n",
    "X = ct.fit_transform(X)"
   ]
  },
  {
   "cell_type": "code",
   "execution_count": 8,
   "id": "ebce9994",
   "metadata": {},
   "outputs": [
    {
     "name": "stdout",
     "output_type": "stream",
     "text": [
      "[1.0 0.0 0.0 0.0 0.0 1.0 0.0 0.0 0.0 0.0 0.0 0.0 18 5 'College'\n",
      " 'Operations' 2]\n"
     ]
    }
   ],
   "source": [
    "#Checking\n",
    "print(X[:] [0])\n"
   ]
  },
  {
   "cell_type": "code",
   "execution_count": 9,
   "id": "7d3377a3",
   "metadata": {},
   "outputs": [],
   "source": [
    "#Encoding the categorical variables - Education - 15th Column\n",
    "from sklearn.compose import ColumnTransformer\n",
    "from sklearn.preprocessing import OneHotEncoder\n",
    "#Gender is performed on the wrong column here - we have to check how many job titles there are....\n",
    "ct = ColumnTransformer(transformers=[('encoder', OneHotEncoder(),[14])], remainder='passthrough')\n",
    "X = ct.fit_transform(X)"
   ]
  },
  {
   "cell_type": "code",
   "execution_count": 10,
   "id": "5c2d103f",
   "metadata": {},
   "outputs": [
    {
     "name": "stdout",
     "output_type": "stream",
     "text": [
      "[1.0 0.0 0.0 0.0 1.0 0.0 0.0 0.0 0.0 1.0 0.0 0.0 0.0 0.0 0.0 0.0 18 5\n",
      " 'Operations' 2]\n"
     ]
    }
   ],
   "source": [
    "#Checking\n",
    "print(X[:] [0])"
   ]
  },
  {
   "cell_type": "code",
   "execution_count": 11,
   "id": "872abbcc",
   "metadata": {},
   "outputs": [],
   "source": [
    "#Encoding the categorical variables - Department - 19th Column\n",
    "from sklearn.compose import ColumnTransformer\n",
    "from sklearn.preprocessing import OneHotEncoder\n",
    "#Gender is performed on the wrong column here - we have to check how many job titles there are....\n",
    "ct = ColumnTransformer(transformers=[('encoder', OneHotEncoder(),[18])], remainder='passthrough')\n",
    "X = ct.fit_transform(X)"
   ]
  },
  {
   "cell_type": "code",
   "execution_count": 12,
   "id": "bb5f8305",
   "metadata": {},
   "outputs": [
    {
     "name": "stdout",
     "output_type": "stream",
     "text": [
      "[0.0 0.0 0.0 1.0 0.0 1.0 0.0 0.0 0.0 1.0 0.0 0.0 0.0 0.0 1.0 0.0 0.0 0.0\n",
      " 0.0 0.0 0.0 18 5 2]\n"
     ]
    }
   ],
   "source": [
    "#Checking\n",
    "#Column Labels:\n",
    "#Department: 1:5\n",
    "#Education: 6:9\n",
    "#Gender: 10:11\n",
    "#JobTitle: 12:21\n",
    "#Age: 22\n",
    "#PerfEval: 23\n",
    "#Seniority: 24\n",
    "\n",
    "print(X[:] [0])"
   ]
  },
  {
   "cell_type": "code",
   "execution_count": 13,
   "id": "5906c388",
   "metadata": {},
   "outputs": [],
   "source": [
    "#Splitting data into training set and test set\n",
    "from sklearn.model_selection import train_test_split\n",
    "X_train, X_test, y_train, y_test = train_test_split(X, y, test_size = 0.2, random_state=0)"
   ]
  },
  {
   "cell_type": "code",
   "execution_count": 14,
   "id": "4d8882ba",
   "metadata": {},
   "outputs": [
    {
     "data": {
      "text/plain": [
       "LinearRegression()"
      ]
     },
     "execution_count": 14,
     "metadata": {},
     "output_type": "execute_result"
    }
   ],
   "source": [
    "#Training the model\n",
    "from sklearn.linear_model import LinearRegression\n",
    "regressor = LinearRegression()\n",
    "regressor.fit(X_train, y_train)"
   ]
  },
  {
   "cell_type": "code",
   "execution_count": 15,
   "id": "e7846bc5",
   "metadata": {},
   "outputs": [
    {
     "name": "stdout",
     "output_type": "stream",
     "text": [
      "[[ 79157.62  80789.  ]\n",
      " [ 75132.1   57500.  ]\n",
      " [116444.52 130251.  ]\n",
      " [117586.76 126269.  ]\n",
      " [ 53322.11  57672.  ]\n",
      " [118957.64 106045.  ]\n",
      " [ 87703.54  88566.  ]\n",
      " [ 74749.39  61164.  ]\n",
      " [ 79137.51  84930.  ]\n",
      " [102277.42 102745.  ]\n",
      " [ 95235.55  78132.  ]\n",
      " [130094.67 127013.  ]\n",
      " [ 38264.51  38613.  ]\n",
      " [104253.26 109345.  ]\n",
      " [127336.71 121506.  ]\n",
      " [ 79413.46  71105.  ]\n",
      " [ 80244.24  69928.  ]\n",
      " [112618.78 110049.  ]\n",
      " [ 94664.77  95584.  ]\n",
      " [ 93508.63 103384.  ]\n",
      " [109885.63 103007.  ]\n",
      " [ 85154.1   91566.  ]\n",
      " [ 84548.44  78750.  ]\n",
      " [101334.54  93306.  ]\n",
      " [108667.84 109645.  ]\n",
      " [ 91744.4  114621.  ]\n",
      " [ 90874.91  81503.  ]\n",
      " [103071.57 109369.  ]\n",
      " [118887.44 124847.  ]\n",
      " [103464.38 108476.  ]\n",
      " [103730.51  83308.  ]\n",
      " [ 91689.66  96584.  ]\n",
      " [ 92416.16  89225.  ]\n",
      " [ 96247.05 104290.  ]\n",
      " [ 69366.39  62377.  ]\n",
      " [100371.46 100819.  ]\n",
      " [ 97020.54  87314.  ]\n",
      " [149094.44 150467.  ]\n",
      " [ 81249.07  86375.  ]\n",
      " [ 66527.46  56318.  ]\n",
      " [ 66102.48  65711.  ]\n",
      " [106016.28 108977.  ]\n",
      " [111561.11 129620.  ]\n",
      " [103317.38 119522.  ]\n",
      " [ 60822.58  67749.  ]\n",
      " [ 93221.24  99134.  ]\n",
      " [ 40391.23  39741.  ]\n",
      " [ 82770.07  91713.  ]\n",
      " [ 82727.81  71824.  ]\n",
      " [115103.41 123242.  ]\n",
      " [121568.   120154.  ]\n",
      " [119198.95 133927.  ]\n",
      " [125671.72 123422.  ]\n",
      " [ 69436.5   66407.  ]\n",
      " [133321.83 124166.  ]\n",
      " [101277.46 114029.  ]\n",
      " [ 84536.31  88213.  ]\n",
      " [113681.31 108820.  ]\n",
      " [ 86161.15  98796.  ]\n",
      " [ 92200.24  91568.  ]\n",
      " [ 77849.41  90426.  ]\n",
      " [ 72830.62  93067.  ]\n",
      " [ 94661.61  88994.  ]\n",
      " [ 75773.9   77309.  ]\n",
      " [116625.7  122037.  ]\n",
      " [ 86245.75 100091.  ]\n",
      " [ 92808.4  102910.  ]\n",
      " [109970.01 100769.  ]\n",
      " [106363.12  97000.  ]\n",
      " [ 91960.32  95754.  ]\n",
      " [ 72552.43  79237.  ]\n",
      " [110205.68 106560.  ]\n",
      " [116333.21 108475.  ]\n",
      " [ 64826.41  69254.  ]\n",
      " [ 98647.29 114141.  ]\n",
      " [ 77309.63  82755.  ]\n",
      " [105274.23 112134.  ]\n",
      " [ 85342.69  79177.  ]\n",
      " [110027.69 111120.  ]\n",
      " [ 87660.69  78910.  ]\n",
      " [ 58090.44  62260.  ]\n",
      " [116024.67 123172.  ]\n",
      " [116743.89 118629.  ]\n",
      " [124535.65 119069.  ]\n",
      " [ 81243.08  68643.  ]\n",
      " [ 75961.59  80635.  ]\n",
      " [ 81353.28  80937.  ]\n",
      " [ 90312.53  75518.  ]\n",
      " [139285.97 135073.  ]\n",
      " [124558.3  135512.  ]\n",
      " [ 85601.09  85398.  ]\n",
      " [ 82659.8   89170.  ]\n",
      " [131140.54 135638.  ]\n",
      " [103317.22 102108.  ]\n",
      " [ 93233.43  81866.  ]\n",
      " [ 80103.14  65750.  ]\n",
      " [ 94841.89  91504.  ]\n",
      " [ 84475.52  76517.  ]\n",
      " [ 73174.73  57070.  ]\n",
      " [ 71581.41  72422.  ]\n",
      " [ 34173.01  62866.  ]\n",
      " [ 96714.64  91129.  ]\n",
      " [ 82453.85  83034.  ]\n",
      " [124030.92 115981.  ]\n",
      " [113122.24 111903.  ]\n",
      " [104768.11  87848.  ]\n",
      " [127644.33 101133.  ]\n",
      " [ 48073.55  47739.  ]\n",
      " [112870.98 124530.  ]\n",
      " [ 82648.17  98010.  ]\n",
      " [ 79877.3   96045.  ]\n",
      " [ 72060.34  67323.  ]\n",
      " [130318.89 121821.  ]\n",
      " [ 95020.28  98535.  ]\n",
      " [ 69722.74  40341.  ]\n",
      " [ 52051.26  64624.  ]\n",
      " [ 78986.89  76522.  ]\n",
      " [113751.45  96777.  ]\n",
      " [ 91129.75 114733.  ]\n",
      " [ 96073.98  94590.  ]\n",
      " [ 67727.01  82343.  ]\n",
      " [102147.76 112719.  ]\n",
      " [112659.27 110731.  ]\n",
      " [ 99336.52  89272.  ]\n",
      " [ 88295.67  97328.  ]\n",
      " [109623.11 117215.  ]\n",
      " [ 99197.45 118653.  ]\n",
      " [ 60060.64  37780.  ]\n",
      " [113394.86  92257.  ]\n",
      " [ 85508.73 103978.  ]\n",
      " [ 77662.51  85986.  ]\n",
      " [ 82677.4   84803.  ]\n",
      " [107166.29 124891.  ]\n",
      " [113984.67 109136.  ]\n",
      " [ 92657.26 104468.  ]\n",
      " [117988.1  106315.  ]\n",
      " [ 65116.59  60892.  ]\n",
      " [ 98473.55 112976.  ]\n",
      " [108012.07 113009.  ]\n",
      " [114023.64 124151.  ]\n",
      " [115013.76 111342.  ]\n",
      " [102787.38 101716.  ]\n",
      " [126810.83 128669.  ]\n",
      " [ 97116.53  92687.  ]\n",
      " [ 81341.17  94973.  ]\n",
      " [ 97036.94  76700.  ]\n",
      " [ 82591.88  61527.  ]\n",
      " [122997.78 113544.  ]\n",
      " [ 86439.91  88037.  ]\n",
      " [119943.52 113252.  ]\n",
      " [ 84968.03 100014.  ]\n",
      " [ 79204.52  66359.  ]\n",
      " [ 49990.17  40056.  ]\n",
      " [ 59694.21  66887.  ]\n",
      " [ 85897.63  88195.  ]\n",
      " [ 93404.29  91030.  ]\n",
      " [ 73994.75  67040.  ]\n",
      " [ 79877.85  77751.  ]\n",
      " [120058.88 115604.  ]\n",
      " [110321.42 118888.  ]\n",
      " [ 77509.83  86241.  ]\n",
      " [ 97259.01  97311.  ]\n",
      " [ 86896.49  93696.  ]\n",
      " [124666.74 125828.  ]\n",
      " [154256.58 179726.  ]\n",
      " [ 86465.17  85161.  ]\n",
      " [137654.37 155834.  ]\n",
      " [ 66278.1   76726.  ]\n",
      " [116877.47 113730.  ]\n",
      " [137631.94 118088.  ]\n",
      " [125511.42 136836.  ]\n",
      " [ 53865.54  64920.  ]\n",
      " [ 92645.76  68639.  ]\n",
      " [ 66019.81  49553.  ]\n",
      " [103659.48 105632.  ]\n",
      " [ 97633.2  103416.  ]\n",
      " [ 76720.75  66084.  ]\n",
      " [110611.72 109931.  ]\n",
      " [131949.29 122352.  ]\n",
      " [119256.94 113180.  ]\n",
      " [ 85504.12  84683.  ]\n",
      " [113791.69 123108.  ]\n",
      " [118292.14 113122.  ]\n",
      " [ 54972.23  59458.  ]\n",
      " [104828.    96665.  ]\n",
      " [ 97173.41  99472.  ]\n",
      " [ 77672.08  77584.  ]\n",
      " [ 58035.27  77655.  ]\n",
      " [143061.77 155826.  ]\n",
      " [ 77361.41  88482.  ]\n",
      " [ 90714.01  81661.  ]\n",
      " [ 98475.38  84764.  ]\n",
      " [ 96543.32 105800.  ]\n",
      " [ 80180.44  70890.  ]\n",
      " [ 85330.11  86538.  ]\n",
      " [ 98969.37 110636.  ]\n",
      " [ 67450.35  55560.  ]\n",
      " [ 94546.17  91099.  ]\n",
      " [ 98631.    98512.  ]\n",
      " [126290.79 129132.  ]]\n"
     ]
    }
   ],
   "source": [
    "y_pred = regressor.predict(X_test)\n",
    "np.set_printoptions(precision=2)\n",
    "print(np.concatenate((y_pred.reshape(len(y_pred),1), y_test.reshape(len(y_test),1)),1))"
   ]
  },
  {
   "cell_type": "code",
   "execution_count": 16,
   "id": "55f2ac5d",
   "metadata": {},
   "outputs": [
    {
     "data": {
      "text/plain": [
       "0.8061085018482304"
      ]
     },
     "execution_count": 16,
     "metadata": {},
     "output_type": "execute_result"
    }
   ],
   "source": [
    "#Evaluating Model Performance\n",
    "from sklearn.metrics import r2_score\n",
    "r2_score(y_test, y_pred)"
   ]
  },
  {
   "cell_type": "code",
   "execution_count": 17,
   "id": "677f3cda",
   "metadata": {},
   "outputs": [
    {
     "name": "stdout",
     "output_type": "stream",
     "text": [
      "intercept: 24636.28465713936\n",
      "coefficients: [ -2826.16   1033.81    757.81  -3223.42   4257.96  -2958.11  -3161.71\n",
      "   2808.1    3311.72   -195.62    195.62  -2126.91  -5555.71   2153.83\n",
      "  -5435.25  -3306.97  28760.19 -19810.01  -2102.24  11200.97  -3777.89\n",
      "    997.02     62.54   9676.35]\n"
     ]
    }
   ],
   "source": [
    "#Print equation\n",
    "print(f\"intercept: {regressor.intercept_}\")\n",
    "print(f\"coefficients: {regressor.coef_}\")"
   ]
  },
  {
   "cell_type": "code",
   "execution_count": 18,
   "id": "84d41973",
   "metadata": {},
   "outputs": [
    {
     "name": "stdout",
     "output_type": "stream",
     "text": [
      "[98059.51]\n"
     ]
    }
   ],
   "source": [
    "#Make a prediction for Software Engineer, Female, 50, 5, Masters, Operations, 3\n",
    "print(regressor.predict([[1, 0, 0, 0, 0, 0, 0, 1, 0, 1, 0, 0, 1, 0, 0, 0, 0, 0, 0, 0, 0, 50, 5, 3]]))"
   ]
  },
  {
   "cell_type": "code",
   "execution_count": 19,
   "id": "fa1b128c",
   "metadata": {},
   "outputs": [],
   "source": [
    "#The R2 Score indicates that the regression equation accounts for 81% of the variation in salary, however, VIF should be analyzed to determine if multicollinearity is present in independent variables."
   ]
  }
 ],
 "metadata": {
  "kernelspec": {
   "display_name": "Python 3 (ipykernel)",
   "language": "python",
   "name": "python3"
  },
  "language_info": {
   "codemirror_mode": {
    "name": "ipython",
    "version": 3
   },
   "file_extension": ".py",
   "mimetype": "text/x-python",
   "name": "python",
   "nbconvert_exporter": "python",
   "pygments_lexer": "ipython3",
   "version": "3.9.12"
  }
 },
 "nbformat": 4,
 "nbformat_minor": 5
}
